{
 "cells": [
  {
   "cell_type": "markdown",
   "metadata": {},
   "source": [
    "# CSE 535 Project- CGM Prediction | RNN Algorithm"
   ]
  },
  {
   "cell_type": "markdown",
   "metadata": {},
   "source": [
    "## Variable Exploration"
   ]
  },
  {
   "cell_type": "code",
   "execution_count": 757,
   "metadata": {},
   "outputs": [],
   "source": [
    "#Importing Libraries\n",
    "from pandas import DataFrame\n",
    "from pandas import concat\n",
    "from sklearn.preprocessing import MinMaxScaler\n",
    "from keras.models import Sequential\n",
    "from keras.layers import Dense, Dropout\n",
    "from keras.layers import LSTM\n",
    "import pandas as pd\n",
    "import timeit\n",
    "import numpy as np\n",
    "np.random.seed(7)\n",
    "\n",
    "from matplotlib import pyplot as plt"
   ]
  },
  {
   "cell_type": "code",
   "execution_count": 758,
   "metadata": {},
   "outputs": [
    {
     "name": "stdout",
     "output_type": "stream",
     "text": [
      "<class 'pandas.core.frame.DataFrame'>\n",
      "RangeIndex: 16384 entries, 0 to 16383\n",
      "Data columns (total 3 columns):\n",
      "Bolus    12960 non-null float64\n",
      "CGM      15803 non-null float64\n",
      "Meal     16384 non-null float64\n",
      "dtypes: float64(3)\n",
      "memory usage: 384.1 KB\n",
      "None\n",
      "<class 'pandas.core.frame.DataFrame'>\n",
      "RangeIndex: 16384 entries, 0 to 16383\n",
      "Data columns (total 3 columns):\n",
      "Bolus    16384 non-null float64\n",
      "CGM      15651 non-null float64\n",
      "Meal     16384 non-null float64\n",
      "dtypes: float64(3)\n",
      "memory usage: 384.1 KB\n",
      "None\n"
     ]
    }
   ],
   "source": [
    "#Importing data\n",
    "df = pd.read_csv('CSE535ProjectData.csv')\n",
    "df2 = pd.read_csv('NewPatientCSE535ProjectData.csv')\n",
    "print(df.info())\n",
    "print(df2.info())"
   ]
  },
  {
   "cell_type": "code",
   "execution_count": 759,
   "metadata": {},
   "outputs": [
    {
     "name": "stdout",
     "output_type": "stream",
     "text": [
      "Bolus    3424\n",
      "CGM       581\n",
      "Meal        0\n",
      "dtype: int64\n",
      "Bolus      0\n",
      "CGM      733\n",
      "Meal       0\n",
      "dtype: int64\n"
     ]
    }
   ],
   "source": [
    "#Printing Dataset to check for null values\n",
    "print(df.isnull().sum())\n",
    "print(df2.isnull().sum())"
   ]
  },
  {
   "cell_type": "code",
   "execution_count": 760,
   "metadata": {},
   "outputs": [],
   "source": [
    "#Getting rid of null values\n",
    "df = df.dropna(axis = 0)\n",
    "df2 = df2.dropna(axis = 0)"
   ]
  },
  {
   "cell_type": "code",
   "execution_count": 761,
   "metadata": {},
   "outputs": [
    {
     "data": {
      "text/html": [
       "<div>\n",
       "<style scoped>\n",
       "    .dataframe tbody tr th:only-of-type {\n",
       "        vertical-align: middle;\n",
       "    }\n",
       "\n",
       "    .dataframe tbody tr th {\n",
       "        vertical-align: top;\n",
       "    }\n",
       "\n",
       "    .dataframe thead th {\n",
       "        text-align: right;\n",
       "    }\n",
       "</style>\n",
       "<table border=\"1\" class=\"dataframe\">\n",
       "  <thead>\n",
       "    <tr style=\"text-align: right;\">\n",
       "      <th></th>\n",
       "      <th>Bolus</th>\n",
       "      <th>CGM</th>\n",
       "      <th>Meal</th>\n",
       "    </tr>\n",
       "  </thead>\n",
       "  <tbody>\n",
       "    <tr>\n",
       "      <td>0</td>\n",
       "      <td>0.00</td>\n",
       "      <td>136.0</td>\n",
       "      <td>0.0</td>\n",
       "    </tr>\n",
       "    <tr>\n",
       "      <td>1</td>\n",
       "      <td>0.00</td>\n",
       "      <td>135.0</td>\n",
       "      <td>0.0</td>\n",
       "    </tr>\n",
       "    <tr>\n",
       "      <td>2</td>\n",
       "      <td>0.00</td>\n",
       "      <td>135.0</td>\n",
       "      <td>0.0</td>\n",
       "    </tr>\n",
       "    <tr>\n",
       "      <td>3</td>\n",
       "      <td>0.00</td>\n",
       "      <td>135.0</td>\n",
       "      <td>0.0</td>\n",
       "    </tr>\n",
       "    <tr>\n",
       "      <td>4</td>\n",
       "      <td>0.00</td>\n",
       "      <td>136.0</td>\n",
       "      <td>0.0</td>\n",
       "    </tr>\n",
       "    <tr>\n",
       "      <td>...</td>\n",
       "      <td>...</td>\n",
       "      <td>...</td>\n",
       "      <td>...</td>\n",
       "    </tr>\n",
       "    <tr>\n",
       "      <td>12966</td>\n",
       "      <td>0.00</td>\n",
       "      <td>226.0</td>\n",
       "      <td>0.0</td>\n",
       "    </tr>\n",
       "    <tr>\n",
       "      <td>12967</td>\n",
       "      <td>0.00</td>\n",
       "      <td>228.0</td>\n",
       "      <td>0.0</td>\n",
       "    </tr>\n",
       "    <tr>\n",
       "      <td>12968</td>\n",
       "      <td>0.08</td>\n",
       "      <td>231.0</td>\n",
       "      <td>0.0</td>\n",
       "    </tr>\n",
       "    <tr>\n",
       "      <td>12969</td>\n",
       "      <td>0.00</td>\n",
       "      <td>232.0</td>\n",
       "      <td>0.0</td>\n",
       "    </tr>\n",
       "    <tr>\n",
       "      <td>12970</td>\n",
       "      <td>0.00</td>\n",
       "      <td>230.0</td>\n",
       "      <td>0.0</td>\n",
       "    </tr>\n",
       "  </tbody>\n",
       "</table>\n",
       "<p>12482 rows × 3 columns</p>\n",
       "</div>"
      ],
      "text/plain": [
       "       Bolus   CGM   Meal\n",
       "0       0.00  136.0   0.0\n",
       "1       0.00  135.0   0.0\n",
       "2       0.00  135.0   0.0\n",
       "3       0.00  135.0   0.0\n",
       "4       0.00  136.0   0.0\n",
       "...      ...    ...   ...\n",
       "12966   0.00  226.0   0.0\n",
       "12967   0.00  228.0   0.0\n",
       "12968   0.08  231.0   0.0\n",
       "12969   0.00  232.0   0.0\n",
       "12970   0.00  230.0   0.0\n",
       "\n",
       "[12482 rows x 3 columns]"
      ]
     },
     "execution_count": 761,
     "metadata": {},
     "output_type": "execute_result"
    }
   ],
   "source": [
    "#Making datasets same length\n",
    "df2 = df2.iloc[:len(df), :]\n",
    "df2"
   ]
  },
  {
   "cell_type": "markdown",
   "metadata": {},
   "source": [
    "## Data Preperation (Task 1)"
   ]
  },
  {
   "cell_type": "code",
   "execution_count": 762,
   "metadata": {},
   "outputs": [],
   "source": [
    "#Converting series to supervised learning\n",
    "def series_to_supervised(data, n_in=1, n_out=1, dropnan=True): #24 timesteps is every 2 hours\n",
    "    n_vars = 1 if type(data) is list else data.shape[1]\n",
    "    df = DataFrame(data)\n",
    "    cols, names = list(), list()\n",
    "     \n",
    "    # input sequence (t-n, ... t-1)\n",
    "    for i in range(n_in, 0, -1):\n",
    "        cols.append(df.shift(i))\n",
    "        names += [('var%d(t-%d)' % (j+1, i)) for j in range(n_vars)]\n",
    "        \n",
    "    # forecast sequence (t, t+1, ... t+n)\n",
    "    for i in range(0, n_out):\n",
    "        cols.append(df.shift(-i))\n",
    "        if i == 0:\n",
    "            names += [('var%d(t)' % (j+1)) for j in range(n_vars)]\n",
    "        else:\n",
    "            names += [('var%d(t+%d)' % (j+1, i)) for j in range(n_vars)]\n",
    "            \n",
    "    # put it all together\n",
    "    agg = concat(cols, axis=1)\n",
    "    agg.columns = names\n",
    "    \n",
    "    # drop rows with NaN values\n",
    "    if dropnan:\n",
    "        agg.dropna(inplace=True)\n",
    "    return agg"
   ]
  },
  {
   "cell_type": "code",
   "execution_count": 763,
   "metadata": {
    "scrolled": true
   },
   "outputs": [
    {
     "data": {
      "text/plain": [
       "array([[0.264  , 0.     ],\n",
       "       [0.26125, 0.     ],\n",
       "       [0.2585 , 0.     ],\n",
       "       ...,\n",
       "       [0.27225, 0.     ],\n",
       "       [0.2695 , 0.     ],\n",
       "       [0.2695 , 0.99   ]])"
      ]
     },
     "execution_count": 763,
     "metadata": {},
     "output_type": "execute_result"
    }
   ],
   "source": [
    "#Feature Scaling (normalizing data)\n",
    "values = df.iloc[:,1:3].values \n",
    "values2 = df2.iloc[:,1:3].values\n",
    "values = values.astype('float')\n",
    "values2 = values2.astype('float')\n",
    "\n",
    "scaler = MinMaxScaler(feature_range = (0,0.99)) \n",
    "scaled = scaler.fit_transform(values)\n",
    "scaled2 = scaler.fit_transform(values2)\n",
    "scaled"
   ]
  },
  {
   "cell_type": "code",
   "execution_count": 764,
   "metadata": {},
   "outputs": [
    {
     "name": "stdout",
     "output_type": "stream",
     "text": [
      "    var1(t-24)  var2(t-24)  var1(t-23)  var2(t-23)  var1(t-22)  var2(t-22)  \\\n",
      "24     0.26400         0.0     0.26125         0.0     0.25850         0.0   \n",
      "25     0.26125         0.0     0.25850         0.0     0.25575         0.0   \n",
      "26     0.25850         0.0     0.25575         0.0     0.24750         0.0   \n",
      "27     0.25575         0.0     0.24750         0.0     0.24475         0.0   \n",
      "28     0.24750         0.0     0.24475         0.0     0.23925         0.0   \n",
      "\n",
      "    var1(t-21)  var2(t-21)  var1(t-20)  var2(t-20)  ...  var2(t-5)  var1(t-4)  \\\n",
      "24     0.25575         0.0     0.24750         0.0  ...        0.0    0.24750   \n",
      "25     0.24750         0.0     0.24475         0.0  ...        0.0    0.24475   \n",
      "26     0.24475         0.0     0.23925         0.0  ...        0.0    0.24200   \n",
      "27     0.23925         0.0     0.23650         0.0  ...        0.0    0.23925   \n",
      "28     0.23650         0.0     0.23925         0.0  ...        0.0    0.23100   \n",
      "\n",
      "    var2(t-4)  var1(t-3)  var2(t-3)  var1(t-2)  var2(t-2)  var1(t-1)  \\\n",
      "24        0.0    0.24475        0.0    0.24200        0.0    0.23925   \n",
      "25        0.0    0.24200        0.0    0.23925        0.0    0.23100   \n",
      "26        0.0    0.23925        0.0    0.23100        0.0    0.21175   \n",
      "27        0.0    0.23100        0.0    0.21175        0.0    0.19250   \n",
      "28        0.0    0.21175        0.0    0.19250        0.0    0.17875   \n",
      "\n",
      "    var2(t-1)  var2(t)  \n",
      "24        0.0      0.0  \n",
      "25        0.0      0.0  \n",
      "26        0.0      0.0  \n",
      "27        0.0      0.0  \n",
      "28        0.0      0.0  \n",
      "\n",
      "[5 rows x 49 columns]\n"
     ]
    }
   ],
   "source": [
    "#Retrieving data from previous 24 timesteps (2 hours)\n",
    "reframed = series_to_supervised(scaled, 24, 1) \n",
    "reframed2 = series_to_supervised(scaled2, 24,1)\n",
    "\n",
    "#Dropping columns we don't want to predict\n",
    "reframed.drop(reframed.columns[[48]], axis = 1, inplace = True) \n",
    "reframed2.drop(reframed2.columns[[48]], axis = 1, inplace = True) \n",
    "print(reframed.head())"
   ]
  },
  {
   "cell_type": "code",
   "execution_count": 765,
   "metadata": {},
   "outputs": [],
   "source": [
    "#Splitting data into train and test sets\n",
    "reframedValues = reframed.values\n",
    "reframedValues2 = reframed2.values\n",
    "\n",
    "n_train_days = int(len(df) * .85) #85% data is train, 15% test\n",
    "\n",
    "train = reframedValues[:n_train_days, :]\n",
    "test = reframedValues[n_train_days+1:12482, :]\n",
    "\n",
    "test2 = reframedValues2[:, :]"
   ]
  },
  {
   "cell_type": "code",
   "execution_count": 766,
   "metadata": {},
   "outputs": [],
   "source": [
    "#Assigning inputs and output datasets\n",
    "train_X, train_y = train[:, :-1], train[:, -1]\n",
    "test_X, test_y = test[:, :-1], test[:, -1]\n",
    "\n",
    "test_X2, test_y2 = test2[:, :-1], test2[:, -1]"
   ]
  },
  {
   "cell_type": "code",
   "execution_count": 767,
   "metadata": {},
   "outputs": [
    {
     "name": "stdout",
     "output_type": "stream",
     "text": [
      "(10609, 1, 48) (10609,) (1848, 1, 48) (1848,)\n"
     ]
    }
   ],
   "source": [
    "#Reshaping input to be 3 dimensions for RNN(samples, timesteps, features)\n",
    "train_X = train_X.reshape((train_X.shape[0], 1, train_X.shape[1]))\n",
    "test_X = test_X.reshape((test_X.shape[0], 1, test_X.shape[1]))\n",
    "\n",
    "test_X2 = test_X2.reshape((test_X2.shape[0], 1, test_X2.shape[1]))\n",
    "\n",
    "print(train_X.shape, train_y.shape, test_X.shape, test_y.shape)"
   ]
  },
  {
   "cell_type": "markdown",
   "metadata": {},
   "source": [
    "## RNN Algorithm Creation (Task 2)"
   ]
  },
  {
   "cell_type": "code",
   "execution_count": 768,
   "metadata": {},
   "outputs": [],
   "source": [
    "#Algorithm Instantiation\n",
    "model = Sequential()\n",
    "\n",
    "#Algorithm Development\n",
    "model.add(LSTM(100, input_shape=(train_X.shape[1], train_X.shape[2]))) #Recurrent Layer\n",
    "model.add(Dropout(0.4)) #Dropout Layer\n",
    "model.add(Dense(15, activation = 'tanh')) #Fully Connected Layer\n",
    "moddel.add(Dense(1, activation = 'sigmoid')) #Output Layer\n",
    "model.compile(loss='sparse_categorical_crossentropy', optimizer= 'adam', metrics=['accuracy']) #Compiling the model"
   ]
  },
  {
   "cell_type": "code",
   "execution_count": 769,
   "metadata": {},
   "outputs": [],
   "source": [
    "#Algorithm Implementation\n",
    "def algorithm(): \n",
    "    history = model.fit(train_X, train_y, epochs = 3, batch_size=50, validation_data=(test_X, test_y), verbose=2, shuffle=False)\n",
    "    #Best is epochs = 3, batch_size = 50"
   ]
  },
  {
   "cell_type": "markdown",
   "metadata": {},
   "source": [
    "## Evaluating Model Performance (Task 2 )"
   ]
  },
  {
   "cell_type": "code",
   "execution_count": 770,
   "metadata": {},
   "outputs": [
    {
     "name": "stdout",
     "output_type": "stream",
     "text": [
      "Train on 10609 samples, validate on 1848 samples\n",
      "Epoch 1/3\n",
      " - 11s - loss: 0.0000e+00 - acc: 0.8453 - val_loss: 0.0000e+00 - val_acc: 0.9594\n",
      "Epoch 2/3\n",
      " - 2s - loss: 0.0000e+00 - acc: 0.8491 - val_loss: 0.0000e+00 - val_acc: 0.9594\n",
      "Epoch 3/3\n",
      " - 2s - loss: 0.0000e+00 - acc: 0.8447 - val_loss: 0.0000e+00 - val_acc: 0.9594\n",
      "10609/10609 [==============================] - 1s 82us/step\n",
      "Our training accuracy is 95.4%\n"
     ]
    }
   ],
   "source": [
    "#Training Accuracy\n",
    "m = algorithm()\n",
    "result1 = model.evaluate(train_X, train_y)\n",
    "percentage = \"{:.1%}\".format(result1[1])\n",
    "print(\"Our training accuracy is \" + str(percentage))"
   ]
  },
  {
   "cell_type": "code",
   "execution_count": 771,
   "metadata": {},
   "outputs": [
    {
     "name": "stdout",
     "output_type": "stream",
     "text": [
      "1848/1848 [==============================] - 0s 84us/step\n",
      "Our testing accuracy is 95.9%\n"
     ]
    }
   ],
   "source": [
    "#Testing Accuracy\n",
    "result2 = model.evaluate(test_X, test_y)\n",
    "percentage = \"{:.1%}\".format(result2[1])\n",
    "print(\"Our testing accuracy is \" + str(percentage))"
   ]
  },
  {
   "cell_type": "markdown",
   "metadata": {},
   "source": [
    "## Applying algorithm to new patient (Task 3): "
   ]
  },
  {
   "cell_type": "code",
   "execution_count": 772,
   "metadata": {},
   "outputs": [
    {
     "name": "stdout",
     "output_type": "stream",
     "text": [
      "Train on 10609 samples, validate on 12458 samples\n",
      "Epoch 1/3\n",
      " - 3s - loss: 0.0000e+00 - acc: 0.8395 - val_loss: 0.0000e+00 - val_acc: 0.9672\n",
      "Epoch 2/3\n",
      " - 2s - loss: 0.0000e+00 - acc: 0.8486 - val_loss: 0.0000e+00 - val_acc: 0.9672\n",
      "Epoch 3/3\n",
      " - 2s - loss: 0.0000e+00 - acc: 0.8448 - val_loss: 0.0000e+00 - val_acc: 0.9672\n"
     ]
    }
   ],
   "source": [
    "history = model.fit(train_X, train_y, epochs = 3, batch_size=50, validation_data=(test_X2, test_y2), verbose=2, shuffle=False) "
   ]
  },
  {
   "cell_type": "code",
   "execution_count": 773,
   "metadata": {},
   "outputs": [
    {
     "name": "stdout",
     "output_type": "stream",
     "text": [
      "12458/12458 [==============================] - 1s 68us/step\n",
      "Our testing accuracy for a new patient is 96.7%\n"
     ]
    }
   ],
   "source": [
    "#Training Accuracy New Patient\n",
    "result3 = model.evaluate(test_X2, test_y2)\n",
    "percentage2 = \"{:.1%}\".format(result3[1])\n",
    "print(\"Our testing accuracy for a new patient is \" + str(percentage2))"
   ]
  },
  {
   "cell_type": "markdown",
   "metadata": {},
   "source": [
    "## Execution Time Analysis (Task 4)"
   ]
  },
  {
   "cell_type": "code",
   "execution_count": 774,
   "metadata": {},
   "outputs": [
    {
     "name": "stdout",
     "output_type": "stream",
     "text": [
      "Train on 10609 samples, validate on 1848 samples\n",
      "Epoch 1/3\n",
      " - 2s - loss: 0.0000e+00 - acc: 0.8488 - val_loss: 0.0000e+00 - val_acc: 0.9594\n",
      "Epoch 2/3\n",
      " - 2s - loss: 0.0000e+00 - acc: 0.8484 - val_loss: 0.0000e+00 - val_acc: 0.9594\n",
      "Epoch 3/3\n",
      " - 2s - loss: 0.0000e+00 - acc: 0.8486 - val_loss: 0.0000e+00 - val_acc: 0.9594\n",
      "RNN Algorithm Execution Time: 5.672522912995191\n"
     ]
    }
   ],
   "source": [
    "print(\"RNN Algorithm Execution Time: \" + str(timeit.timeit(algorithm, number = 1)))"
   ]
  },
  {
   "cell_type": "code",
   "execution_count": null,
   "metadata": {},
   "outputs": [],
   "source": []
  }
 ],
 "metadata": {
  "kernelspec": {
   "display_name": "Python 3",
   "language": "python",
   "name": "python3"
  },
  "language_info": {
   "codemirror_mode": {
    "name": "ipython",
    "version": 3
   },
   "file_extension": ".py",
   "mimetype": "text/x-python",
   "name": "python",
   "nbconvert_exporter": "python",
   "pygments_lexer": "ipython3",
   "version": "3.8.3"
  }
 },
 "nbformat": 4,
 "nbformat_minor": 2
}
