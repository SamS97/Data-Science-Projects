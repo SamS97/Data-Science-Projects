{
 "cells": [
  {
   "cell_type": "code",
   "execution_count": 909,
   "metadata": {},
   "outputs": [],
   "source": [
    "#Importing Libraries\n",
    "import pandas as pd \n",
    "from datetime import datetime\n",
    "import xlwt \n",
    "from xlwt import Workbook "
   ]
  },
  {
   "cell_type": "code",
   "execution_count": 910,
   "metadata": {},
   "outputs": [],
   "source": [
    "#Reading in Datasets\n",
    "cgmDF = pd.read_csv('CGMData.csv')\n",
    "insDF = pd.read_csv('InsulinData.csv')"
   ]
  },
  {
   "cell_type": "code",
   "execution_count": 911,
   "metadata": {},
   "outputs": [],
   "source": [
    "#1) Determing the time stamp when Auto mode starts\n",
    "for i in range(0, len(insDF)):\n",
    "    if(insDF.loc[i, \"Alarm\"] == 'AUTO MODE ACTIVE PLGM OFF'):\n",
    "        iAutoDate = insDF.loc[i, \"Date\"]\n",
    "        iAutoTime = insDF.loc[i, \"Time\"]"
   ]
  },
  {
   "cell_type": "code",
   "execution_count": 912,
   "metadata": {},
   "outputs": [
    {
     "name": "stdout",
     "output_type": "stream",
     "text": [
      "2017-08-09 00:00:00\n",
      "1900-01-01 08:10:05\n"
     ]
    }
   ],
   "source": [
    "#2) Determining timestamp in CGMData.csv where Auto mode starts\n",
    "import datetime\n",
    "\n",
    "for i in range(0,len(cgmDF)):\n",
    "    if(cgmDF.loc[(len(cgmDF) - i-1),\"Date\"] >= iAutoDate and cgmDF.loc[(len(cgmDF) - i-1), \"Time\"] >= iAutoTime):\n",
    "        cAutoDateString = cgmDF.loc[(len(cgmDF) - i-1), \"Date\"]\n",
    "        cAutoTimeString = cgmDF.loc[(len(cgmDF) - i-1), \"Time\"]\n",
    "        break;\n",
    "\n",
    "#Converting autodate and time from string to daytime object\n",
    "cAutoDate = datetime.datetime.strptime(cAutoDateString, '%m/%d/%Y')\n",
    "cAutoTime = datetime.datetime.strptime(cAutoTimeString, '%H:%M:%S')\n",
    "\n",
    "print(cAutoDate)\n",
    "print(cAutoTime)"
   ]
  },
  {
   "cell_type": "code",
   "execution_count": 913,
   "metadata": {},
   "outputs": [
    {
     "data": {
      "text/plain": [
       "pandas._libs.tslibs.timestamps.Timestamp"
      ]
     },
     "execution_count": 913,
     "metadata": {},
     "output_type": "execute_result"
    }
   ],
   "source": [
    "#3) Converting string columns to date time objects\n",
    "cgmDF['Date'] = pd.to_datetime(cgmDF['Date'], format=\"%m/%d/%Y\")\n",
    "cgmDF['Time'] = pd.to_datetime(cgmDF['Time'], format=\"%H:%M:%S\")\n",
    "\n",
    "type(cgmDF['Date'][0])"
   ]
  },
  {
   "cell_type": "code",
   "execution_count": 914,
   "metadata": {},
   "outputs": [],
   "source": [
    "#Creating time variables\n",
    "import datetime\n",
    "midnightString = \"0:00:00\"\n",
    "midnight = datetime.datetime.strptime(midnightString, '%H:%M:%S')\n",
    "\n",
    "sixAMString = \"6:00:00\"\n",
    "sixAM = datetime.datetime.strptime(sixAMString, '%H:%M:%S')"
   ]
  },
  {
   "cell_type": "code",
   "execution_count": 915,
   "metadata": {
    "scrolled": true
   },
   "outputs": [],
   "source": [
    "#4) Parsing CGM Data by Whole Day, Overnight, and Daytime\n",
    "#Creating lists that will store first row of every new day, start and end of daytime and overnight\n",
    "days = []\n",
    "overnight = []\n",
    "daytime = []\n",
    "\n",
    "lastDay = cgmDF.loc[0,\"Date\"]\n",
    "lastTime = cgmDF.loc[0,\"Time\"]\n",
    "\n",
    "#Appending first day (last row of dataset) to appropriate list(s)\n",
    "if(cgmDF.loc[len(cgmDF) - 1, \"Time\"] >= midnight and cgmDF.loc[len(cgmDF) - 1, \"Time\"] < sixAM):\n",
    "    overnight.append(len(cgmDF)+1)\n",
    "    days.append(len(cgmDF) + 1)\n",
    "elif(cgmDF.loc[len(cgmDF) - 1, \"Time\"] >= sixAM):\n",
    "    daytime.append(len(cgmDF) + 1)\n",
    "    days.append(len(cgmDF) + 1)\n",
    "\n",
    "#Appending first row of each new day to days list\n",
    "for i in range(1, len(cgmDF)):\n",
    "    currentDay = len(cgmDF) - i\n",
    "    currentTime = len(cgmDF) - i\n",
    "    \n",
    "    if(currentDay == lastDay and currentTime == lastTime): #Prevents index range error\n",
    "        break;\n",
    "    #Parsing Whole Day\n",
    "    elif(cgmDF.loc[(len(cgmDF) - i), \"Time\"] < cgmDF.loc[(len(cgmDF) - i - 1), \"Time\"] ):\n",
    "        pass\n",
    "    else:\n",
    "        days.append(len(cgmDF) - i+2) #days.append(len(cgmDF) - i+1)\n",
    "        overnight.append(len(cgmDF) - i+1)\n",
    "        daytime.append(len(cgmDF) - i+2)\n",
    "        \n",
    "    #Parsing Overnight and Daytime Subintervals\n",
    "    #Looking for end of overnight and start of daytime\n",
    "    if(cgmDF.loc[(len(cgmDF) - i), \"Time\"] < sixAM  and cgmDF.loc[(len(cgmDF) - i-1), \"Time\"] > sixAM):\n",
    "        overnight.append(len(cgmDF) - i+2)\n",
    "        daytime.append(len(cgmDF) - i+1)\n",
    "\n",
    "#Apending last day (first row of dataset) to appropriate list(s)\n",
    "firstRow = 0\n",
    "if(cgmDF.loc[firstRow, \"Time\"] > sixAM):\n",
    "    daytime.append(firstRow)\n",
    "    days.append(firstRow)\n",
    "elif(cgmDF.loc[firstRow, \"Time\"] <= sixAM):\n",
    "    overnight.append(firstRow)\n",
    "    days.append(firstRow)"
   ]
  },
  {
   "cell_type": "code",
   "execution_count": 916,
   "metadata": {},
   "outputs": [],
   "source": [
    "#5) Function to put metrics into Results.csv\n",
    "import csv\n",
    "\n",
    "def insertMetricsAuto(aResultA, bResultA, cResultA, dResultA, eResultA, fResultA, segment):\n",
    "    #Inserting metrics into Auto row in Results.csv\n",
    "    if(segment == overnight):\n",
    "        sheet1.write(2, 1, aResultA) \n",
    "        sheet1.write(2, 2, bResultA)\n",
    "        sheet1.write(2, 3, cResultA)\n",
    "        sheet1.write(2, 4, dResultA)\n",
    "        sheet1.write(2, 5, eResultA)\n",
    "        sheet1.write(2, 6, fResultA)\n",
    "    elif(segment == daytime):\n",
    "        sheet1.write(2, 7, aResultA) \n",
    "        sheet1.write(2, 8, bResultA)\n",
    "        sheet1.write(2, 9, cResultA)\n",
    "        sheet1.write(2, 10, dResultA)\n",
    "        sheet1.write(2, 11, eResultA)\n",
    "        sheet1.write(2, 12, fResultA)\n",
    "    elif(segment == days):\n",
    "        sheet1.write(2, 13, aResultA) \n",
    "        sheet1.write(2, 14, bResultA)\n",
    "        sheet1.write(2, 15, cResultA)\n",
    "        sheet1.write(2, 16, dResultA)\n",
    "        sheet1.write(2, 17, eResultA)\n",
    "        sheet1.write(2, 18, fResultA)\n",
    "    \n",
    "def insertMetricsManual(aResultM, bResultM, cResultM, dResultM, eResultM, fResultM, segment):\n",
    "    #Inserting metrics into Manual row in Results.csv\n",
    "    if(segment == overnight):\n",
    "        sheet1.write(1, 1, aResultM) \n",
    "        sheet1.write(1, 2, bResultM)\n",
    "        sheet1.write(1, 3, cResultM)\n",
    "        sheet1.write(1, 4, dResultM)\n",
    "        sheet1.write(1, 5, eResultM)\n",
    "        sheet1.write(1, 6, fResultM)\n",
    "    elif(segment == daytime):\n",
    "        sheet1.write(1, 7, aResultM) \n",
    "        sheet1.write(1, 8, bResultM)\n",
    "        sheet1.write(1, 9, cResultM)\n",
    "        sheet1.write(1, 10, dResultM)\n",
    "        sheet1.write(1, 11, eResultM)\n",
    "        sheet1.write(1, 12, fResultM)\n",
    "    elif(segment == days):\n",
    "        sheet1.write(1, 13, aResultM) \n",
    "        sheet1.write(1, 14, bResultM)\n",
    "        sheet1.write(1, 15, cResultM)\n",
    "        sheet1.write(1, 16, dResultM)\n",
    "        sheet1.write(1, 17, eResultM)\n",
    "        sheet1.write(1, 18, fResultM)"
   ]
  },
  {
   "cell_type": "code",
   "execution_count": 917,
   "metadata": {},
   "outputs": [],
   "source": [
    "#Getting rid of null values and replacing with 0\n",
    "df = cgmDF[\"Sensor Glucose (mg/dL)\"].isna()\n",
    "for i in range(0, len(df)):\n",
    "    if(df[i] == True): #If value is null replace with 0, otherwise do nothing\n",
    "        cgmDF.loc[i, \"Sensor Glucose (mg/dL)\"] = 0"
   ]
  },
  {
   "cell_type": "code",
   "execution_count": 918,
   "metadata": {},
   "outputs": [],
   "source": [
    "#Making sensor glucose column an integer type\n",
    "cgmDF[\"Sensor Glucose (mg/dL)\"] = cgmDF[\"Sensor Glucose (mg/dL)\"].astype(int)"
   ]
  },
  {
   "cell_type": "code",
   "execution_count": 919,
   "metadata": {},
   "outputs": [],
   "source": [
    "#Creating spreadsheet\n",
    "wb = Workbook() \n",
    "\n",
    "#Writing column names:\n",
    "sheet1 = wb.add_sheet('Metrics Sheet 2', cell_overwrite_ok=True) \n",
    "sheet1.write(0, 0, \"Mode\")\n",
    "sheet1.write(1,0, \"Manual Mode\")\n",
    "sheet1.write(2,0, \"Auto Mode\")\n",
    "\n",
    "c=1\n",
    "for i in range(0,6):\n",
    "    sheet1.write(0,c,\"overnight\")\n",
    "    c = c+1\n",
    "\n",
    "for i in range(0,6):\n",
    "    sheet1.write(0,c,\"daytime\")\n",
    "    c = c+1\n",
    "    \n",
    "for i in range(0,6):\n",
    "    sheet1.write(0,c,\"whole day\")\n",
    "    c = c+1"
   ]
  },
  {
   "cell_type": "code",
   "execution_count": 920,
   "metadata": {},
   "outputs": [],
   "source": [
    "#6) Function that calculates metrics for a specific segment\n",
    "def gatherMetrics(segmentList):\n",
    "    #Instantiating variables\n",
    "    a = 0\n",
    "    b = 0\n",
    "    c = 0\n",
    "    d = 0\n",
    "    e = 0\n",
    "    f = 0\n",
    "\n",
    "    aTotal = 0\n",
    "    bTotal = 0\n",
    "    cTotal = 0\n",
    "    dTotal = 0\n",
    "    eTotal = 0\n",
    "    fTotal = 0\n",
    "\n",
    "    length = 0\n",
    "    switched = False \n",
    "\n",
    "    for j in range(0, len(segmentList)-1):\n",
    "        intervalLen = segmentList[j] - segmentList[j+1]\n",
    "        i = 0\n",
    "        for i in range(segmentList[j], segmentList[j+1], -1):\n",
    "            if(i >= 2):\n",
    "                #Collecting data for metric computation\n",
    "                if(cgmDF.loc[i-2, \"Sensor Glucose (mg/dL)\"] == 0): #If null value, don't increment anything but reduce size of interval\n",
    "                     intervalLen = intervalLen - 1\n",
    "                elif(cgmDF.loc[i-2, \"Sensor Glucose (mg/dL)\"] > 250):\n",
    "                    b = b +1\n",
    "                elif(cgmDF.loc[i-2, \"Sensor Glucose (mg/dL)\"] > 180):\n",
    "                    a  = a +1\n",
    "                elif(cgmDF.loc[i-2, \"Sensor Glucose (mg/dL)\"] >= 70 and cgmDF.loc[i-2, \"Sensor Glucose (mg/dL)\"] <= 150):\n",
    "                    d  = d +1\n",
    "                elif(cgmDF.loc[i-2, \"Sensor Glucose (mg/dL)\"] >= 70 and cgmDF.loc[i-2, \"Sensor Glucose (mg/dL)\"] <= 180):\n",
    "                    c  = c +1\n",
    "                elif(cgmDF.loc[i-2, \"Sensor Glucose (mg/dL)\"] < 54):\n",
    "                    f  = f +1\n",
    "                elif(cgmDF.loc[i-2, \"Sensor Glucose (mg/dL)\"] < 70):\n",
    "                    e  = e +1\n",
    "\n",
    "                #Getting final averages to put into manual mode if we just switched to auto modeResults.csv\n",
    "                if(cgmDF.loc[i-2, \"Date\"] >= cAutoDate and switched == False):\n",
    "                    if(cgmDF.loc[i-2, \"Time\"] >= cAutoTime):\n",
    "                        aResultM = aTotal / length \n",
    "                        bResultM = bTotal / length \n",
    "                        cResultM = cTotal / length \n",
    "                        dResultM = dTotal / length \n",
    "                        eResultM = eTotal / length \n",
    "                        fResultM = fTotal / length \n",
    "                        switched = True\n",
    "                        \n",
    "                        #Inserting metrics to Manual Mode row in Results.csv\n",
    "                        insertMetricsManual(aResultM, bResultM,cResultM,dResultM,eResultM,fResultM, segmentList)\n",
    "                        \n",
    "                        #Resetting variables\n",
    "                        a = 0\n",
    "                        b = 0\n",
    "                        c = 0\n",
    "                        d = 0\n",
    "                        e = 0\n",
    "                        f = 0\n",
    "                        aTotal = 0\n",
    "                        bTotal = 0\n",
    "                        cTotal = 0\n",
    "                        dTotal = 0\n",
    "                        eTotal = 0\n",
    "                        fTotal = 0\n",
    "                        length = 0\n",
    "                        intervalLen = (segmentList[j] - i) - segmentList[j+1] #Resetting interval to start at auto mode\n",
    "\n",
    "        #Calculating metric percentages\n",
    "        aP = a / intervalLen\n",
    "        bP = b / intervalLen\n",
    "        cP = c / intervalLen\n",
    "        dP = d / intervalLen\n",
    "        eP = e / intervalLen\n",
    "        fP = f / intervalLen\n",
    "\n",
    "        #Adding percentage to current total\n",
    "        aTotal = aTotal + aP\n",
    "        bTotal = bTotal + bP\n",
    "        cTotal = cTotal + cP\n",
    "        dTotal = dTotal + dP\n",
    "        eTotal = eTotal + eP\n",
    "        fTotal = fTotal + fP\n",
    "        length = length + 1   \n",
    "\n",
    "        #Resetting variables to 0\n",
    "        a = 0\n",
    "        b = 0\n",
    "        c = 0\n",
    "        d = 0\n",
    "        e = 0\n",
    "        f = 0\n",
    "\n",
    "    #Inserting metrics to Auto Mode row in Results.csv \n",
    "    aResultA = aTotal / length \n",
    "    bResultA = bTotal / length \n",
    "    cResultA = cTotal / length \n",
    "    dResultA = dTotal / length \n",
    "    eResultA = eTotal / length \n",
    "    fResultA = fTotal / length \n",
    "    \n",
    "    #Write code on line below to insert into results.csv\n",
    "    insertMetricsAuto(aResultA,bResultA,cResultA,dResultA,eResultA,fResultA, segmentList)"
   ]
  },
  {
   "cell_type": "code",
   "execution_count": 921,
   "metadata": {},
   "outputs": [],
   "source": [
    "#7) Gathering metrics for Overnight interval and placing in Results.csv\n",
    "gatherMetrics(overnight)   "
   ]
  },
  {
   "cell_type": "code",
   "execution_count": 922,
   "metadata": {},
   "outputs": [],
   "source": [
    "#8) Gathering metrics for Daytime interval and inserting into Results.csv\n",
    "gatherMetrics(daytime)"
   ]
  },
  {
   "cell_type": "code",
   "execution_count": 923,
   "metadata": {},
   "outputs": [],
   "source": [
    "#9) Gathering metrics for Whole Day interval and inserting into Results.csv\n",
    "gatherMetrics(days)"
   ]
  },
  {
   "cell_type": "code",
   "execution_count": 924,
   "metadata": {},
   "outputs": [
    {
     "name": "stdout",
     "output_type": "stream",
     "text": [
      "Finished Compiling!\n"
     ]
    }
   ],
   "source": [
    "#10) Saving Spreadsheet\n",
    "wb.save('Steinberg_Results.csv') \n",
    "print(\"Finished Compiling!\")"
   ]
  }
 ],
 "metadata": {
  "kernelspec": {
   "display_name": "Python 3",
   "language": "python",
   "name": "python3"
  },
  "language_info": {
   "codemirror_mode": {
    "name": "ipython",
    "version": 3
   },
   "file_extension": ".py",
   "mimetype": "text/x-python",
   "name": "python",
   "nbconvert_exporter": "python",
   "pygments_lexer": "ipython3",
   "version": "3.8.3"
  }
 },
 "nbformat": 4,
 "nbformat_minor": 2
}
