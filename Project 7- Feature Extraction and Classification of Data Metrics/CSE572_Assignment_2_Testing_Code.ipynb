{
 "cells": [
  {
   "cell_type": "code",
   "execution_count": 260,
   "metadata": {},
   "outputs": [],
   "source": [
    "#Importing libraries\n",
    "import pickle\n",
    "import pandas as pd\n",
    "import xlwt \n",
    "from xlwt import Workbook \n",
    "from sklearn.preprocessing import StandardScaler\n",
    "import numpy as np"
   ]
  },
  {
   "cell_type": "code",
   "execution_count": 261,
   "metadata": {},
   "outputs": [],
   "source": [
    "def load_model():\n",
    "#Loading model from training code\n",
    "    file_name = \"assignment_2_model.pkl\"\n",
    "\n",
    "    with open(file_name, 'rb') as file:  \n",
    "        svm_model = pickle.load(file)\n",
    "    \n",
    "    return svm_model"
   ]
  },
  {
   "cell_type": "code",
   "execution_count": 262,
   "metadata": {},
   "outputs": [],
   "source": [
    "def extract_features(test_df):\n",
    "    means = []\n",
    "    sds = []\n",
    "    \n",
    "    for i in range(0, len(test_df)):\n",
    "        mean = float(sum(test_df.iloc[i]) / len(test_df.iloc[i]))\n",
    "        sd = np.std(test_df.iloc[i], ddof=0)\n",
    "        means.append(mean)\n",
    "        sds.append(sd)\n",
    "        \n",
    "    return means, sds"
   ]
  },
  {
   "cell_type": "code",
   "execution_count": 263,
   "metadata": {},
   "outputs": [],
   "source": [
    "def create_features_df(means,sds):\n",
    "    #creating feature dataframe\n",
    "    data = {'mean': means,\n",
    "            'sd': sds,\n",
    "            }\n",
    "    \n",
    "    features_df = pd.DataFrame(data, columns = ['mean','sd'])\n",
    "\n",
    "    return features_df"
   ]
  },
  {
   "cell_type": "code",
   "execution_count": 264,
   "metadata": {},
   "outputs": [],
   "source": [
    "#Running against test cases\n",
    "def test_predictions(svm_model, features_df):\n",
    "    x_test = features_df.iloc[:,0:2].values #Loading test set data\n",
    "\n",
    "    #Creating spreadsheet\n",
    "    wb = Workbook() \n",
    "    #Writing column names:\n",
    "    sheet1 = wb.add_sheet('Results', cell_overwrite_ok=True) \n",
    "    \n",
    "    #normalizing values\n",
    "    scaler = StandardScaler()\n",
    "    x_test = scaler.fit_transform(x_test)\n",
    "\n",
    "    #Making Predictions\n",
    "    for i in range(0,len(test_df)):\n",
    "        y_pred = svm_model.predict(x_test[i].reshape(1,-1)) #x_test[i] is a single sample\n",
    "        output = int(y_pred[0]) #Converting value from array to integer\n",
    "        sheet1.write(i, 0, output) #1 row of zeros and ones\n",
    "    \n",
    "    #Saving output\n",
    "    wb.save('Result.csv') \n",
    "    \n",
    "    return"
   ]
  },
  {
   "cell_type": "code",
   "execution_count": 265,
   "metadata": {},
   "outputs": [],
   "source": [
    "#Driver\n",
    "\n",
    "#Loading testing dataset and model\n",
    "test_df = pd.read_csv('test.csv', header = None)\n",
    "svm_model = load_model()\n",
    "\n",
    "#Exctracting features of test dataset\n",
    "means, sds = extract_features(test_df)\n",
    "\n",
    "#Creating df of features from test dataset\n",
    "features_df = create_features_df(means, sds)\n",
    "\n",
    "#Making Predictions and outputting vector to Results.csv\n",
    "test_predictions(svm_model, features_df)"
   ]
  },
  {
   "cell_type": "code",
   "execution_count": 266,
   "metadata": {},
   "outputs": [
    {
     "name": "stdout",
     "output_type": "stream",
     "text": [
      "Finished Compiling\n"
     ]
    }
   ],
   "source": [
    "print(\"Finished Compiling\")"
   ]
  }
 ],
 "metadata": {
  "kernelspec": {
   "display_name": "Python 3",
   "language": "python",
   "name": "python3"
  },
  "language_info": {
   "codemirror_mode": {
    "name": "ipython",
    "version": 3
   },
   "file_extension": ".py",
   "mimetype": "text/x-python",
   "name": "python",
   "nbconvert_exporter": "python",
   "pygments_lexer": "ipython3",
   "version": "3.8.3"
  }
 },
 "nbformat": 4,
 "nbformat_minor": 4
}
